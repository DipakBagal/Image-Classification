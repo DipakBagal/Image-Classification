{
  "nbformat": 4,
  "nbformat_minor": 0,
  "metadata": {
    "colab": {
      "name": "ImageClassification_CNN.ipynb",
      "provenance": [],
      "collapsed_sections": [],
      "authorship_tag": "ABX9TyOaFsmm2x8QbX3I+iLZ08vK",
      "include_colab_link": true
    },
    "kernelspec": {
      "name": "python3",
      "display_name": "Python 3"
    }
  },
  "cells": [
    {
      "cell_type": "markdown",
      "metadata": {
        "id": "view-in-github",
        "colab_type": "text"
      },
      "source": [
        "<a href=\"https://colab.research.google.com/github/raamav/Image-Classification/blob/master/ImageClassification_CNN.ipynb\" target=\"_parent\"><img src=\"https://colab.research.google.com/assets/colab-badge.svg\" alt=\"Open In Colab\"/></a>"
      ]
    },
    {
      "cell_type": "markdown",
      "metadata": {
        "id": "30fntaYhMVn9",
        "colab_type": "text"
      },
      "source": [
        "# Image Classification Using CNN\n",
        "The purpose of this notebook is to create an image classifier using Convolutional Neural Networks (CNN)\n",
        "\n",
        "The datset thats being used is the CIFAR10.\n",
        "\n",
        "<br>\n",
        "\n",
        "### Approach Summary & Result\n",
        "TBD\n",
        "\n",
        "<br>\n",
        "\n",
        "**CONTENTS**\n",
        "1. Getting/Setting-up the Data\n",
        "2. Visualizing Data\n",
        "3. Data Pre-Processing\n",
        "4. Specifying the CNN Architechture\n",
        "5. Training the CNN & Evaluating Performance\n",
        "6. Closing Comments \n",
        "\n",
        "\n",
        "***\n",
        "\n",
        "<br>\n",
        "\n",
        "## 1.Getting/Setting-up the Data"
      ]
    },
    {
      "cell_type": "code",
      "metadata": {
        "id": "-bTRtc92OlPr",
        "colab_type": "code",
        "colab": {}
      },
      "source": [
        "# Common imports\n",
        "import numpy as np\n",
        "import pandas as pd\n",
        "import os\n",
        "\n",
        "# to make this notebook's output stable across runs\n",
        "np.random.seed(42)\n",
        "\n",
        "# To plot pretty figures\n",
        "%matplotlib inline\n",
        "import matplotlib as mpl\n",
        "import matplotlib.pyplot as plt\n",
        "mpl.rc('axes', labelsize=14)\n",
        "mpl.rc('xtick', labelsize=12)\n",
        "mpl.rc('ytick', labelsize=12)"
      ],
      "execution_count": 0,
      "outputs": []
    },
    {
      "cell_type": "code",
      "metadata": {
        "id": "p-wZTJ04j8Jx",
        "colab_type": "code",
        "colab": {
          "base_uri": "https://localhost:8080/",
          "height": 34
        },
        "outputId": "3e99f3de-b871-45de-fa3c-95e3040c4bba"
      },
      "source": [
        "# Specifying the tensorflow version\n",
        "%tensorflow_version 2.x"
      ],
      "execution_count": 2,
      "outputs": [
        {
          "output_type": "stream",
          "text": [
            "TensorFlow 2.x selected.\n"
          ],
          "name": "stdout"
        }
      ]
    },
    {
      "cell_type": "code",
      "metadata": {
        "id": "q_dKjCe9ijoN",
        "colab_type": "code",
        "colab": {}
      },
      "source": [
        "# Importing Tensorflow and Keras. Checking the versions of the software\n",
        "\n",
        "import tensorflow as tf\n",
        "from tensorflow import keras"
      ],
      "execution_count": 0,
      "outputs": []
    },
    {
      "cell_type": "code",
      "metadata": {
        "id": "mLG3HIp-i7x1",
        "colab_type": "code",
        "colab": {
          "base_uri": "https://localhost:8080/",
          "height": 34
        },
        "outputId": "266beb62-f5d3-41f0-cd64-4c5c301d520c"
      },
      "source": [
        "tf.__version__"
      ],
      "execution_count": 4,
      "outputs": [
        {
          "output_type": "execute_result",
          "data": {
            "text/plain": [
              "'2.1.0'"
            ]
          },
          "metadata": {
            "tags": []
          },
          "execution_count": 4
        }
      ]
    },
    {
      "cell_type": "code",
      "metadata": {
        "id": "GI9fEPkQi_cD",
        "colab_type": "code",
        "colab": {
          "base_uri": "https://localhost:8080/",
          "height": 34
        },
        "outputId": "f3ce47d8-dbff-4b0f-99b7-96ee8f176f59"
      },
      "source": [
        "keras.__version__"
      ],
      "execution_count": 5,
      "outputs": [
        {
          "output_type": "execute_result",
          "data": {
            "text/plain": [
              "'2.2.4-tf'"
            ]
          },
          "metadata": {
            "tags": []
          },
          "execution_count": 5
        }
      ]
    },
    {
      "cell_type": "code",
      "metadata": {
        "id": "06FzTs1FkXss",
        "colab_type": "code",
        "colab": {}
      },
      "source": [
        "cifar10 = keras.datasets.cifar10"
      ],
      "execution_count": 0,
      "outputs": []
    },
    {
      "cell_type": "code",
      "metadata": {
        "id": "t1rNnf2dlNAH",
        "colab_type": "code",
        "colab": {
          "base_uri": "https://localhost:8080/",
          "height": 51
        },
        "outputId": "e971aa9a-bd52-4dff-dab0-e20fe9a3f1ba"
      },
      "source": [
        "(X_train_full,y_train_full),(X_test,y_test) = cifar10.load_data()"
      ],
      "execution_count": 7,
      "outputs": [
        {
          "output_type": "stream",
          "text": [
            "Downloading data from https://www.cs.toronto.edu/~kriz/cifar-10-python.tar.gz\n",
            "170500096/170498071 [==============================] - 4s 0us/step\n"
          ],
          "name": "stdout"
        }
      ]
    },
    {
      "cell_type": "code",
      "metadata": {
        "id": "D2ZytfP_lbIB",
        "colab_type": "code",
        "colab": {
          "base_uri": "https://localhost:8080/",
          "height": 68
        },
        "outputId": "5561e549-20fc-4275-af0a-3e77c47f4548"
      },
      "source": [
        "print(\"shape of training data - images\", X_train_full.shape)\n",
        "print(\"shape of training data - labels\", y_train_full.shape)\n",
        "print(\"shape of test data - images\", X_test.shape)"
      ],
      "execution_count": 9,
      "outputs": [
        {
          "output_type": "stream",
          "text": [
            "shape of training data - images (50000, 32, 32, 3)\n",
            "shape of training data - labels (50000, 1)\n",
            "shape of test data - images (10000, 32, 32, 3)\n"
          ],
          "name": "stdout"
        }
      ]
    },
    {
      "cell_type": "code",
      "metadata": {
        "id": "dRcZYLYgl8ff",
        "colab_type": "code",
        "colab": {}
      },
      "source": [
        "# Splitting the training data into training and validation samples\n",
        "from sklearn.model_selection import train_test_split\n",
        "\n",
        "X_train,X_val,y_train,y_val = train_test_split(X_train_full,y_train_full,test_size = 0.20, random_state = 42)"
      ],
      "execution_count": 0,
      "outputs": []
    },
    {
      "cell_type": "code",
      "metadata": {
        "id": "3GDTE-5JmanH",
        "colab_type": "code",
        "colab": {
          "base_uri": "https://localhost:8080/",
          "height": 85
        },
        "outputId": "7c09a2fb-b36f-45fb-b89f-6d0c5d82ef0e"
      },
      "source": [
        "# The dimensions of the training and validation sets\n",
        "\n",
        "print(\"shape of training data - images\", X_train.shape)\n",
        "print(\"shape of training data - labels\", y_train.shape)\n",
        "\n",
        "\n",
        "print(\"shape of valiation data - images\", X_val.shape)\n",
        "print(\"shape of validation data - labels\", y_val.shape)\n"
      ],
      "execution_count": 12,
      "outputs": [
        {
          "output_type": "stream",
          "text": [
            "shape of training data - images (40000, 32, 32, 3)\n",
            "shape of training data - labels (40000, 1)\n",
            "shape of valiation data - images (10000, 32, 32, 3)\n",
            "shape of validation data - labels (10000, 1)\n"
          ],
          "name": "stdout"
        }
      ]
    },
    {
      "cell_type": "markdown",
      "metadata": {
        "id": "6CLPM-yUrlA8",
        "colab_type": "text"
      },
      "source": [
        "***\n",
        "\n",
        "## Visualizing the Data"
      ]
    },
    {
      "cell_type": "code",
      "metadata": {
        "id": "PgHZ0PTNsG4W",
        "colab_type": "code",
        "colab": {}
      },
      "source": [
        ""
      ],
      "execution_count": 0,
      "outputs": []
    }
  ]
}